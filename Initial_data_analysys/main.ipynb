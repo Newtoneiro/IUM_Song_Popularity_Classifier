{
 "cells": [
  {
   "attachments": {},
   "cell_type": "markdown",
   "metadata": {},
   "source": [
    "# Data import"
   ]
  },
  {
   "cell_type": "code",
   "execution_count": 16,
   "metadata": {},
   "outputs": [],
   "source": [
    "import pandas as pd\n",
    "import os\n",
    "\n",
    "DATA_FOLDER = './data'\n",
    "DATA_FILES = [os.path.join(DATA_FOLDER, file) for file in  os.listdir(DATA_FOLDER)]\n",
    "\n",
    "datasets = {data: pd.read_json(data, lines=True) for data in DATA_FILES}"
   ]
  },
  {
   "attachments": {},
   "cell_type": "markdown",
   "metadata": {},
   "source": [
    "# Dataset analysys"
   ]
  },
  {
   "attachments": {},
   "cell_type": "markdown",
   "metadata": {},
   "source": [
    "## Null values"
   ]
  },
  {
   "cell_type": "code",
   "execution_count": 21,
   "metadata": {},
   "outputs": [
    {
     "name": "stdout",
     "output_type": "stream",
     "text": [
      "DATASET ./data\\artists.jsonl: \n",
      "---------------------------\n",
      "id             : 0         \n",
      "name           : 0         \n",
      "genres         : 5545      \n",
      "===========================\n",
      "DATASET ./data\\sessions.jsonl: \n",
      "---------------------------\n",
      "timestamp      : 0         \n",
      "user_id        : 4909      \n",
      "track_id       : 4792      \n",
      "event_type     : 4850      \n",
      "session_id     : 0         \n",
      "===========================\n",
      "DATASET ./data\\tracks.jsonl: \n",
      "---------------------------\n",
      "id             : 25703     \n",
      "name           : 25935     \n",
      "popularity     : 25914     \n",
      "duration_ms    : 0         \n",
      "explicit       : 0         \n",
      "id_artist      : 25913     \n",
      "release_date   : 0         \n",
      "danceability   : 0         \n",
      "energy         : 0         \n",
      "key            : 0         \n",
      "loudness       : 0         \n",
      "speechiness    : 0         \n",
      "acousticness   : 0         \n",
      "instrumentalness: 0         \n",
      "liveness       : 0         \n",
      "valence        : 0         \n",
      "tempo          : 0         \n",
      "===========================\n",
      "DATASET ./data\\track_storage.jsonl: \n",
      "---------------------------\n",
      "track_id       : 0         \n",
      "storage_class  : 0         \n",
      "daily_cost     : 0         \n",
      "===========================\n",
      "DATASET ./data\\users.jsonl: \n",
      "---------------------------\n",
      "user_id        : 0         \n",
      "name           : 0         \n",
      "city           : 0         \n",
      "street         : 0         \n",
      "favourite_genres: 11        \n",
      "premium_user   : 11        \n",
      "id             : 40        \n",
      "===========================\n"
     ]
    }
   ],
   "source": [
    "for dataset_name, dataset in datasets.items():\n",
    "  null_dict = dataset.isnull().sum()\n",
    "  print(f\"DATASET {dataset_name}: \")\n",
    "  print('---------------------------')\n",
    "  for key, val in null_dict.items():\n",
    "    print(f\"{key:<15}: {val:<10}\")\n",
    "  print('===========================')\n",
    "    "
   ]
  },
  {
   "attachments": {},
   "cell_type": "markdown",
   "metadata": {},
   "source": [
    "## IDS = -1"
   ]
  },
  {
   "cell_type": "code",
   "execution_count": 27,
   "metadata": {},
   "outputs": [
    {
     "name": "stdout",
     "output_type": "stream",
     "text": [
      "DATASET ./data\\artists.jsonl: \n",
      "---------------------------\n",
      "Negative id's: 5535      \n",
      "===========================\n",
      "DATASET ./data\\sessions.jsonl: \n",
      "---------------------------\n",
      "Negative id's: 0         \n",
      "===========================\n",
      "DATASET ./data\\tracks.jsonl: \n",
      "---------------------------\n",
      "Negative id's: 0         \n",
      "===========================\n",
      "DATASET ./data\\track_storage.jsonl: \n",
      "---------------------------\n",
      "Negative id's: 0         \n",
      "===========================\n",
      "DATASET ./data\\users.jsonl: \n",
      "---------------------------\n",
      "Negative id's: 10        \n",
      "===========================\n"
     ]
    }
   ],
   "source": [
    "for dataset_name, dataset in datasets.items():\n",
    "  id_candidates = [key for key in dataset.keys() if 'id' in key]\n",
    "  negative_ids = 0\n",
    "  for id_candidate in id_candidates:\n",
    "    negative_ids += len(dataset[dataset[id_candidate] == -1])\n",
    "  print(f\"DATASET {dataset_name}: \")\n",
    "  print('---------------------------')\n",
    "  print(f\"Negative id\\'s: {negative_ids:<10}\")\n",
    "  print('===========================')"
   ]
  },
  {
   "attachments": {},
   "cell_type": "markdown",
   "metadata": {},
   "source": [
    "## Suspicious strings"
   ]
  }
 ],
 "metadata": {
  "kernelspec": {
   "display_name": "bootcamp_env",
   "language": "python",
   "name": "bootcamp_env"
  },
  "language_info": {
   "codemirror_mode": {
    "name": "ipython",
    "version": 3
   },
   "file_extension": ".py",
   "mimetype": "text/x-python",
   "name": "python",
   "nbconvert_exporter": "python",
   "pygments_lexer": "ipython3",
   "version": "3.9.0"
  },
  "orig_nbformat": 4
 },
 "nbformat": 4,
 "nbformat_minor": 2
}
