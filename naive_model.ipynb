{
 "cells": [
  {
   "attachments": {},
   "cell_type": "markdown",
   "metadata": {},
   "source": [
    "## Import"
   ]
  },
  {
   "cell_type": "code",
   "execution_count": null,
   "metadata": {},
   "outputs": [],
   "source": [
    "import pandas as pd\n",
    "import os\n",
    "\n",
    "artists = pd.read_json(\"data_v2/artists.jsonl\", lines=True)\n",
    "sessions = pd.read_json(\"data_v2/sessions.jsonl\", lines=True)\n",
    "track_storage = pd.read_json(\"data_v2/track_storage.jsonl\", lines=True)\n",
    "tracks = pd.read_json(\"data_v2/tracks.jsonl\", lines=True)\n",
    "users = pd.read_json(\"data_v2/users.jsonl\", lines=True)\n",
    "\n",
    "pd.set_option('mode.chained_assignment', None)"
   ]
  },
  {
   "cell_type": "code",
   "execution_count": null,
   "metadata": {},
   "outputs": [],
   "source": [
    "def get_week(date):\n",
    "  return date.week\n",
    "\n",
    "merged = sessions.merge(tracks[['id', 'id_artist', 'duration_ms']], left_on='track_id', right_on='id', how='left')\n",
    "merged = merged.merge(artists[['id', 'name']], left_on='id_artist', right_on='id', how='left')"
   ]
  },
  {
   "attachments": {},
   "cell_type": "markdown",
   "metadata": {},
   "source": [
    "### Uwaga\n",
    "\n",
    "Musimy pomijać ostatni tydzień, gdyż jest on niekompletny i dane z tego tygodnia są silnie zubożone."
   ]
  },
  {
   "cell_type": "code",
   "execution_count": null,
   "metadata": {},
   "outputs": [],
   "source": [
    "data = merged[merged['timestamp'] < '2023-04-10']\n",
    "\n",
    "data['weeks_ordered'] = merged['timestamp'].apply(get_week)"
   ]
  },
  {
   "cell_type": "code",
   "execution_count": null,
   "metadata": {},
   "outputs": [],
   "source": [
    "max_week = data['weeks_ordered'].max()\n",
    "min_week = data['weeks_ordered'].min()\n",
    "\n",
    "print(f\"Min: {min_week}, Max: {max_week}\")"
   ]
  },
  {
   "attachments": {},
   "cell_type": "markdown",
   "metadata": {},
   "source": [
    "## Wczytanie artystów i sprawdzenie dla jakich artystów mamy pełne dane"
   ]
  },
  {
   "cell_type": "code",
   "execution_count": null,
   "metadata": {},
   "outputs": [],
   "source": [
    "all_artists = data['name'].unique()\n",
    "print(len(all_artists))"
   ]
  },
  {
   "cell_type": "code",
   "execution_count": null,
   "metadata": {},
   "outputs": [],
   "source": [
    "consistent_artists = []\n",
    "\n",
    "for artist in all_artists:\n",
    "    if len(data[data['name'] == artist]['weeks_ordered'].unique()) == 12:\n",
    "        consistent_artists.append(artist)\n",
    "\n",
    "print(len(consistent_artists))"
   ]
  },
  {
   "cell_type": "code",
   "execution_count": null,
   "metadata": {},
   "outputs": [],
   "source": [
    "def approximate_playtime(artist_sessions):\n",
    "    play_playtime = artist_sessions[artist_sessions['event_type'] == 'PLAY'].groupby('weeks_ordered')['duration_ms'].sum() * 1.66e-5 # convert to minutes\n",
    "    # skip_playtime = artist_sessions[artist_sessions['event_type'] == 'SKIP'].groupby('weeks_ordered')['duration_ms'].sum() / 2\n",
    "    return play_playtime"
   ]
  },
  {
   "cell_type": "code",
   "execution_count": null,
   "metadata": {},
   "outputs": [],
   "source": [
    "artists_dic = {}\n",
    "for artist in consistent_artists:\n",
    "  artists_dic[artist] = approximate_playtime(data[data['name'] == artist])"
   ]
  },
  {
   "attachments": {},
   "cell_type": "markdown",
   "metadata": {},
   "source": [
    "# MODEL NAIWNY\n",
    "\n",
    "Proponowany model naiwny będzie prostym modelem liniowym."
   ]
  },
  {
   "cell_type": "code",
   "execution_count": null,
   "metadata": {},
   "outputs": [],
   "source": [
    "import numpy as np\n",
    "from sklearn.linear_model import LinearRegression\n",
    "import matplotlib.pyplot as plt"
   ]
  },
  {
   "cell_type": "code",
   "execution_count": null,
   "metadata": {},
   "outputs": [],
   "source": [
    "class LinearRegressionModel:\n",
    "    def __init__(self):\n",
    "        self._model = LinearRegression()\n",
    "    \n",
    "    def fit(self, x, y):\n",
    "        self._model.fit(x, y)\n",
    "    \n",
    "    def predict(self, x):\n",
    "        return self._model.predict(np.array(x).reshape((-1, 1)))"
   ]
  },
  {
   "attachments": {},
   "cell_type": "markdown",
   "metadata": {},
   "source": [
    "## Rysowanie predykcji i szeregów"
   ]
  },
  {
   "cell_type": "code",
   "execution_count": null,
   "metadata": {},
   "outputs": [],
   "source": [
    "def plot_naive(artist, sequence, future_points=5):\n",
    "    input, label = list(sequence)[:-1], list(sequence)[-1]\n",
    "    input_x = np.array([i for i in range(0, len(input))]).reshape((-1, 1))\n",
    "    input_y = np.array(input)\n",
    "\n",
    "    model = LinearRegressionModel()\n",
    "    model.fit(input_x, input_y)\n",
    "    predictions = pd.Series(model.predict(x) for x in range(0, len(input) + future_points))\n",
    "    \n",
    "    plt.figure(figsize=(15,8))\n",
    "    plt.locator_params(axis='y', nbins=20)\n",
    "    plt.title(f\"Artist: {artist}\")\n",
    "    plt.xlabel(\"Week [ordered Number]\")\n",
    "    plt.ylabel(\"Play time [minutes]\")\n",
    "    # Past and current\n",
    "    plt.plot(input, label=\"Actual data\", marker='o')\n",
    "    # Naive prediction\n",
    "    plt.plot(predictions, label=\"Naive prediction\", marker='o')\n",
    "    # Future\n",
    "    plt.plot([len(input) - 1, len(input)], [input_y[-1], label], label=\"Future\", marker='o')\n",
    "    plt.grid()\n",
    "    plt.legend()\n"
   ]
  },
  {
   "cell_type": "code",
   "execution_count": null,
   "metadata": {},
   "outputs": [],
   "source": [
    "artists_to_display = ['Imagine Dragons', 'Radiohead', 'Taylor Swift']\n",
    "\n",
    "for artist in artists_to_display:\n",
    "  plot_naive(artist, artists_dic[artist])"
   ]
  },
  {
   "attachments": {},
   "cell_type": "markdown",
   "metadata": {},
   "source": [
    "## Ewaluacja modelu"
   ]
  },
  {
   "attachments": {},
   "cell_type": "markdown",
   "metadata": {},
   "source": [
    "Ewaluacja modelu będzie odbywała się na podstawie miary MSE."
   ]
  },
  {
   "cell_type": "code",
   "execution_count": null,
   "metadata": {},
   "outputs": [],
   "source": [
    "def MSE(x, y):\n",
    "    mse = (np.square(x - y)).mean(axis=-1)\n",
    "    return mse"
   ]
  },
  {
   "cell_type": "code",
   "execution_count": null,
   "metadata": {},
   "outputs": [],
   "source": [
    "predictions, ground_truth = [], []\n",
    "\n",
    "for artist, eval_data in artists_dic.items():\n",
    "    input, label = list(eval_data)[:-1], list(eval_data)[-1]\n",
    "    input_x = np.array([i for i in range(0, len(input))]).reshape((-1, 1))\n",
    "    input_y = np.array(input)\n",
    "\n",
    "    model = LinearRegressionModel()\n",
    "    model.fit(input_x, input_y)\n",
    "\n",
    "    predictions.append(model.predict(len(input)).squeeze(axis=0))\n",
    "    ground_truth.append(label)"
   ]
  },
  {
   "cell_type": "code",
   "execution_count": null,
   "metadata": {},
   "outputs": [],
   "source": [
    "print(f\"MSE: {MSE(np.array(predictions), np.array(ground_truth))}\")"
   ]
  },
  {
   "attachments": {},
   "cell_type": "markdown",
   "metadata": {},
   "source": [
    "## Wnioski"
   ]
  },
  {
   "attachments": {},
   "cell_type": "markdown",
   "metadata": {},
   "source": [
    "Średni błąd kwadratowy na całym zbiorze danych artystów, dla których istnieją akcje w każdym okresie (199 artystów) wynosi 1669.4069131874119. Jest to solidna podstawa, z której można wyjść a celem powinno być stworzenie modelu o MSE conajmniej mniejszym od tego osiąganego przez model naiwny.\n",
    "\n",
    "### Dodatkowe wnioski:\n",
    "\n",
    "Mała liczba danych treningowych, na których można wytrenować model. Należy możliwie zwiększyć zbiór treningowy poprzez więcej danych albo zawężenie liczby okresów, na podstawie których przewidujemy średni czas słuchania w przyszłości."
   ]
  }
 ],
 "metadata": {
  "kernelspec": {
   "display_name": "Python 3",
   "language": "python",
   "name": "python3"
  },
  "language_info": {
   "codemirror_mode": {
    "name": "ipython",
    "version": 3
   },
   "file_extension": ".py",
   "mimetype": "text/x-python",
   "name": "python",
   "nbconvert_exporter": "python",
   "pygments_lexer": "ipython3",
   "version": "3.10.10"
  },
  "orig_nbformat": 4
 },
 "nbformat": 4,
 "nbformat_minor": 2
}
