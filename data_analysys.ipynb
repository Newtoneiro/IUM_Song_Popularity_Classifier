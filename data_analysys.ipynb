{
 "cells": [
  {
   "attachments": {},
   "cell_type": "markdown",
   "metadata": {},
   "source": [
    "# Import danych"
   ]
  },
  {
   "cell_type": "code",
   "execution_count": null,
   "metadata": {},
   "outputs": [],
   "source": [
    "import pandas as pd\n",
    "import os\n",
    "\n",
    "DATA_FOLDER = './data_v2'\n",
    "DATA_FILES = [os.path.join(DATA_FOLDER, file) for file in  os.listdir(DATA_FOLDER)]\n",
    "\n",
    "datasets = {data: pd.read_json(data, lines=True) for data in DATA_FILES}"
   ]
  },
  {
   "attachments": {},
   "cell_type": "markdown",
   "metadata": {},
   "source": [
    "# Analiza danych"
   ]
  },
  {
   "attachments": {},
   "cell_type": "markdown",
   "metadata": {},
   "source": [
    "## Wartości null"
   ]
  },
  {
   "cell_type": "code",
   "execution_count": null,
   "metadata": {},
   "outputs": [],
   "source": [
    "for dataset_name, dataset in datasets.items():\n",
    "  null_dict = dataset.isnull().sum()\n",
    "  print(f\"DATASET {dataset_name}: \")\n",
    "  print('---------------------------')\n",
    "  for key, val in null_dict.items():\n",
    "    print(f\"{key:<15}: {val:<10}\")\n",
    "  print('===========================')\n",
    "    "
   ]
  },
  {
   "attachments": {},
   "cell_type": "markdown",
   "metadata": {},
   "source": [
    "## IDS = -1"
   ]
  },
  {
   "cell_type": "code",
   "execution_count": null,
   "metadata": {},
   "outputs": [],
   "source": [
    "for dataset_name, dataset in datasets.items():\n",
    "  id_candidates = [key for key in dataset.keys() if 'id' in key]\n",
    "  negative_ids = 0\n",
    "  for id_candidate in id_candidates:\n",
    "    negative_ids += len(dataset[dataset[id_candidate] == -1])\n",
    "  print(f\"DATASET {dataset_name}: \")\n",
    "  print('---------------------------')\n",
    "  print(f\"Negative id\\'s: {negative_ids:<10}\")\n",
    "  print('===========================')"
   ]
  },
  {
   "attachments": {},
   "cell_type": "markdown",
   "metadata": {},
   "source": [
    "## Wnioski\n",
    "\n",
    "Wyraźnie widać, że wcześniejsze problemy z danymi już nie występują. Możemy zatem przejść do faktycznej analizy danych pod względem biznesowym"
   ]
  },
  {
   "attachments": {},
   "cell_type": "markdown",
   "metadata": {},
   "source": [
    "# Analiza danych"
   ]
  },
  {
   "cell_type": "code",
   "execution_count": null,
   "metadata": {},
   "outputs": [],
   "source": [
    "import pandas as pd\n",
    "import matplotlib.pyplot as plt"
   ]
  },
  {
   "cell_type": "code",
   "execution_count": null,
   "metadata": {},
   "outputs": [],
   "source": [
    "artists = pd.read_json(\"data_v2/artists.jsonl\", lines=True)\n",
    "sessions = pd.read_json(\"data_v2/sessions.jsonl\", lines=True)\n",
    "track_storage = pd.read_json(\"data_v2/track_storage.jsonl\", lines=True)\n",
    "tracks = pd.read_json(\"data_v2/tracks.jsonl\", lines=True)\n",
    "users = pd.read_json(\"data_v2/users.jsonl\", lines=True)\n",
    "\n",
    "pd.set_option('mode.chained_assignment', None)"
   ]
  },
  {
   "attachments": {},
   "cell_type": "markdown",
   "metadata": {},
   "source": [
    "### Typy zdarzeń"
   ]
  },
  {
   "cell_type": "code",
   "execution_count": null,
   "metadata": {},
   "outputs": [],
   "source": [
    "sessions['event_type'].unique()"
   ]
  },
  {
   "attachments": {},
   "cell_type": "markdown",
   "metadata": {},
   "source": [
    "### Interesujące dla nas mogą być zdarzenia: 'PLAY' i 'SKIP'\n",
    "\n",
    "Na ich podstawie możemy szacować czas słuchania wykonawcy muzycznego przez użytkowników. Zakładając, że zdarzenie PLAY oznacza średnio przesłuchanie całego utworu, a SKIP oznacza pominięcie średnio połowy długości utworu, możemy spróbować przedstawić średni czas słuchania wykonawcy w następujący sposób."
   ]
  },
  {
   "attachments": {},
   "cell_type": "markdown",
   "metadata": {},
   "source": [
    "Okres dostępności danych"
   ]
  },
  {
   "cell_type": "code",
   "execution_count": null,
   "metadata": {},
   "outputs": [],
   "source": [
    "print(f\"Min: {sessions['timestamp'].min()} - Max: {sessions['timestamp'].max()}\")\n",
    "print(f\"Period: {sessions['timestamp'].max() - sessions['timestamp'].min()}\")"
   ]
  },
  {
   "attachments": {},
   "cell_type": "markdown",
   "metadata": {},
   "source": [
    "Mamy do czynienia z danymi z przedziału 4 miesięcy - od 9.01 do 10.04"
   ]
  },
  {
   "attachments": {},
   "cell_type": "markdown",
   "metadata": {},
   "source": [
    "Połączenie danych z utworami i artystami + segregacja po tygodniu wydarzenia"
   ]
  },
  {
   "cell_type": "code",
   "execution_count": null,
   "metadata": {},
   "outputs": [],
   "source": [
    "def get_week(date):\n",
    "  return date.week\n",
    "\n",
    "merged = sessions.merge(tracks[['id', 'id_artist', 'duration_ms']], left_on='track_id', right_on='id', how='left')\n",
    "merged = merged.merge(artists[['id', 'name']], left_on='id_artist', right_on='id', how='left')\n",
    "\n",
    "# This will be removed in actual analysis\n",
    "sessions_merged = merged[merged['timestamp'] < '2023-04-10']\n",
    "\n",
    "sessions_merged['weeks_ordered'] = sessions_merged['timestamp'].apply(get_week)"
   ]
  },
  {
   "cell_type": "code",
   "execution_count": null,
   "metadata": {},
   "outputs": [],
   "source": [
    "max_week = sessions_merged['weeks_ordered'].max()\n",
    "min_week = sessions_merged['weeks_ordered'].min()\n",
    "\n",
    "print(f\"Min: {min_week}, Max: {max_week}\")"
   ]
  },
  {
   "attachments": {},
   "cell_type": "markdown",
   "metadata": {},
   "source": [
    "## Wykresy akcji związanych z utworami w okresach"
   ]
  },
  {
   "cell_type": "code",
   "execution_count": null,
   "metadata": {},
   "outputs": [],
   "source": [
    "plt.xlabel(\"Week\")\n",
    "plt.ylabel(\"Number of events\")\n",
    "for key in ['PLAY', 'SKIP']:\n",
    "    plt.title(f\"Number of {key} events per week\")\n",
    "    plt.plot(sessions_merged[sessions['event_type'] == key].groupby('weeks_ordered').size(), label=key, marker='o')\n",
    "    plt.xticks(range(min_week, max_week + 1, 1))\n",
    "    plt.show()\n"
   ]
  },
  {
   "attachments": {},
   "cell_type": "markdown",
   "metadata": {},
   "source": [
    "### Problemem może być niespójność, możemy przewidywać rokowania artystów, których utwory były słuchane w każdym z okresów"
   ]
  },
  {
   "cell_type": "code",
   "execution_count": null,
   "metadata": {},
   "outputs": [],
   "source": [
    "all_artists = sessions_merged['name'].unique()\n",
    "print(len(all_artists))"
   ]
  },
  {
   "cell_type": "code",
   "execution_count": null,
   "metadata": {},
   "outputs": [],
   "source": [
    "consistent_artists = []\n",
    "\n",
    "for artist in all_artists:\n",
    "    if len(sessions_merged[sessions_merged['name'] == artist]['weeks_ordered'].unique()) == 12:\n",
    "        consistent_artists.append(artist)\n",
    "\n",
    "print(len(consistent_artists))"
   ]
  },
  {
   "attachments": {},
   "cell_type": "markdown",
   "metadata": {},
   "source": [
    "Mamy zaledwie 199 spośród 808 artystów, którzy byli słuchani w każdym okresie i jesteśmy dla nich w stanie przewidzieć rokowania za pomocą proponowanego rozwiązania."
   ]
  },
  {
   "cell_type": "code",
   "execution_count": null,
   "metadata": {},
   "outputs": [],
   "source": [
    "def approximate_playtime(artist_sessions):\n",
    "    play_playtime = artist_sessions[artist_sessions['event_type'] == 'PLAY'].groupby('weeks_ordered')['duration_ms'].sum() * 1.66e-5 # convert to minutes\n",
    "    # skip_playtime = artist_sessions[artist_sessions['event_type'] == 'SKIP'].groupby('weeks_ordered')['duration_ms'].sum() / 2\n",
    "    return play_playtime\n",
    "\n",
    "def plot_actions(artists, sessions_merged):\n",
    "    COLS = len(artists)\n",
    "    fig, axs = plt.subplots(1, COLS, figsize=(20, 5))\n",
    "    \n",
    "    col = 0\n",
    "    for artist in artists:\n",
    "        artist_sessions = sessions_merged[sessions_merged['name'] == artist]\n",
    "        approximated_playtime = approximate_playtime(artist_sessions)\n",
    "        axs[col].set_xlabel(\"Week [ordered Number]\")\n",
    "        axs[col].set_ylabel(\"Play time [minutes]\")\n",
    "        axs[col].plot(approximated_playtime, label=artist, marker='o')\n",
    "        axs[col].set_title(f\"Artist: {artist}\")\n",
    "        axs[col].grid()\n",
    "        col += 1\n"
   ]
  },
  {
   "attachments": {},
   "cell_type": "markdown",
   "metadata": {},
   "source": [
    "### Sortowanie artystów po popularności"
   ]
  },
  {
   "cell_type": "code",
   "execution_count": null,
   "metadata": {},
   "outputs": [],
   "source": [
    "artists_dic = {}\n",
    "for artist in consistent_artists:\n",
    "  artists_dic[artist] = approximate_playtime(sessions_merged[sessions_merged['name'] == artist]).sum()\n",
    "\n",
    "artists_dic = {k: v for k, v in sorted(artists_dic.items(), key=lambda item: item[1])}"
   ]
  },
  {
   "attachments": {},
   "cell_type": "markdown",
   "metadata": {},
   "source": [
    "## Popularni wykonawcy"
   ]
  },
  {
   "cell_type": "code",
   "execution_count": null,
   "metadata": {},
   "outputs": [],
   "source": [
    "print(list(artists_dic.keys())[-5:])"
   ]
  },
  {
   "cell_type": "code",
   "execution_count": null,
   "metadata": {},
   "outputs": [],
   "source": [
    "TARGET_ARTISTS = [\"Imagine Dragons\", \"Glass Animals\", \"Ed Sheeran\"]\n",
    "\n",
    "plot_actions(TARGET_ARTISTS, sessions_merged)"
   ]
  },
  {
   "attachments": {},
   "cell_type": "markdown",
   "metadata": {},
   "source": [
    "## Mniej popularni"
   ]
  },
  {
   "cell_type": "code",
   "execution_count": null,
   "metadata": {},
   "outputs": [],
   "source": [
    "print(list(artists_dic.keys())[:5])"
   ]
  },
  {
   "cell_type": "code",
   "execution_count": null,
   "metadata": {},
   "outputs": [],
   "source": [
    "TARGET_ARTISTS = [\"Josh White\", \"Leroy Carr\", \"The Kooks\"]\n",
    "\n",
    "plot_actions(TARGET_ARTISTS, sessions_merged)"
   ]
  },
  {
   "attachments": {},
   "cell_type": "markdown",
   "metadata": {},
   "source": [
    "### Inne przydatne kolumny\n",
    "\n",
    "Warto wziąć pod uwagę niektóre z cech utorów takie jak długość utworu, jego popularność i explicit kontent, które mogą dodatkowo wpływać na ilość odtworzeń / ostateczne wynagrodzenie artysty."
   ]
  },
  {
   "attachments": {},
   "cell_type": "markdown",
   "metadata": {},
   "source": [
    "### Popularność"
   ]
  },
  {
   "cell_type": "code",
   "execution_count": null,
   "metadata": {},
   "outputs": [],
   "source": [
    "print(\"Most popular:\")\n",
    "print(tracks.sort_values(by='popularity', ascending=False)[['name', 'popularity']].head(10))\n",
    "print(\"=============================================\")\n",
    "print(\"Least popular:\")\n",
    "print(tracks.sort_values(by='popularity', ascending=True)[['name', 'popularity']].head(10))\n",
    "print(\"=============================================\")"
   ]
  },
  {
   "attachments": {},
   "cell_type": "markdown",
   "metadata": {},
   "source": [
    "# Wnioski końcowe"
   ]
  },
  {
   "attachments": {},
   "cell_type": "markdown",
   "metadata": {},
   "source": [
    "### Dane wejściowe i wyjściowe modelu"
   ]
  },
  {
   "attachments": {},
   "cell_type": "markdown",
   "metadata": {},
   "source": [
    "Na powyższych wykresach widać tendencje wzrostową / spadkową dla interakcji użytkowników z utowrami muzycznymi danych artystów. Po obrobieniu danych nasz model będzie przyjmować na wejście sekwencję reprezentującą łączny czas słuchania wykonawcy w kolejnych interwałach czasowych i na tej podstawie przewidywać średni czas słuchania wykonawcy w następnym interwale (przyszłości)."
   ]
  }
 ],
 "metadata": {
  "kernelspec": {
   "display_name": "Python 3",
   "language": "python",
   "name": "python3"
  },
  "language_info": {
   "codemirror_mode": {
    "name": "ipython",
    "version": 3
   },
   "file_extension": ".py",
   "mimetype": "text/x-python",
   "name": "python",
   "nbconvert_exporter": "python",
   "pygments_lexer": "ipython3",
   "version": "3.10.10"
  },
  "orig_nbformat": 4
 },
 "nbformat": 4,
 "nbformat_minor": 2
}
